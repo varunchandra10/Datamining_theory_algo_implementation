{
  "nbformat": 4,
  "nbformat_minor": 0,
  "metadata": {
    "colab": {
      "provenance": [],
      "authorship_tag": "ABX9TyORX5rt0LyWM+iEU/oTcNzn",
      "include_colab_link": true
    },
    "kernelspec": {
      "name": "python3",
      "display_name": "Python 3"
    },
    "language_info": {
      "name": "python"
    }
  },
  "cells": [
    {
      "cell_type": "markdown",
      "metadata": {
        "id": "view-in-github",
        "colab_type": "text"
      },
      "source": [
        "<a href=\"https://colab.research.google.com/github/varunchandra10/datamining_algorithms/blob/main/Classification/Naive_Bayes_classifier/Bayes_Classifier.ipynb\" target=\"_parent\"><img src=\"https://colab.research.google.com/assets/colab-badge.svg\" alt=\"Open In Colab\"/></a>"
      ]
    },
    {
      "cell_type": "markdown",
      "source": [
        "# Basic EDA for playing_tennis_dataset"
      ],
      "metadata": {
        "id": "1q9cH2bwAFyG"
      }
    },
    {
      "cell_type": "code",
      "source": [
        "import pandas as pd\n",
        "import numpy as np\n",
        "from collections import defaultdict\n",
        "import matplotlib.pyplot as plt\n",
        "import seaborn as sns"
      ],
      "metadata": {
        "id": "Gl72ZGcZACXL"
      },
      "execution_count": 37,
      "outputs": []
    },
    {
      "cell_type": "code",
      "source": [
        "path = \"/content/sample_data/playing_tennis_dataset.csv\"\n",
        "df = pd.read_csv(path)"
      ],
      "metadata": {
        "id": "Gg2Ot2X2ANDg"
      },
      "execution_count": 67,
      "outputs": []
    },
    {
      "cell_type": "code",
      "source": [
        "# Load dataset and get features\n",
        "def load_dataset(df, target_column=None):\n",
        "    if not target_column:\n",
        "        print(\"\\nColumns in the dataset:\", list(df.columns))\n",
        "        target_column = input(\"Please enter the target column name (class column): \").strip()\n",
        "\n",
        "    if target_column not in df.columns:\n",
        "        raise ValueError(f\"'{target_column}' not found in dataset columns.\")\n",
        "\n",
        "    features = [col for col in df.columns if col != target_column]\n",
        "    return df, features, target_column"
      ],
      "metadata": {
        "id": "dN4uF0YTOT5q"
      },
      "execution_count": 68,
      "outputs": []
    },
    {
      "cell_type": "code",
      "source": [
        "df, features, target_column = load_dataset(df, target_column=\"PlayTennis\")"
      ],
      "metadata": {
        "id": "lNX3uAp1OafB"
      },
      "execution_count": 69,
      "outputs": []
    },
    {
      "cell_type": "code",
      "source": [
        "df.head()"
      ],
      "metadata": {
        "colab": {
          "base_uri": "https://localhost:8080/",
          "height": 206
        },
        "id": "h_4h-EwPE_el",
        "outputId": "a738bd41-3d12-4091-f22b-0622a6b4ff0f"
      },
      "execution_count": 24,
      "outputs": [
        {
          "output_type": "execute_result",
          "data": {
            "text/plain": [
              "    Outlook Temperature Humidity    Wind PlayTennis\n",
              "0      Rain         Hot     High  Strong        Yes\n",
              "1     Sunny        Mild   Normal  Strong         No\n",
              "2     Sunny        Mild     High  Strong        Yes\n",
              "3      Rain        Cool     High    Weak        Yes\n",
              "4  Overcast        Mild     High    Weak         No"
            ],
            "text/html": [
              "\n",
              "  <div id=\"df-5d1abc9e-05c4-4b66-8fe4-26a478c6f6a6\" class=\"colab-df-container\">\n",
              "    <div>\n",
              "<style scoped>\n",
              "    .dataframe tbody tr th:only-of-type {\n",
              "        vertical-align: middle;\n",
              "    }\n",
              "\n",
              "    .dataframe tbody tr th {\n",
              "        vertical-align: top;\n",
              "    }\n",
              "\n",
              "    .dataframe thead th {\n",
              "        text-align: right;\n",
              "    }\n",
              "</style>\n",
              "<table border=\"1\" class=\"dataframe\">\n",
              "  <thead>\n",
              "    <tr style=\"text-align: right;\">\n",
              "      <th></th>\n",
              "      <th>Outlook</th>\n",
              "      <th>Temperature</th>\n",
              "      <th>Humidity</th>\n",
              "      <th>Wind</th>\n",
              "      <th>PlayTennis</th>\n",
              "    </tr>\n",
              "  </thead>\n",
              "  <tbody>\n",
              "    <tr>\n",
              "      <th>0</th>\n",
              "      <td>Rain</td>\n",
              "      <td>Hot</td>\n",
              "      <td>High</td>\n",
              "      <td>Strong</td>\n",
              "      <td>Yes</td>\n",
              "    </tr>\n",
              "    <tr>\n",
              "      <th>1</th>\n",
              "      <td>Sunny</td>\n",
              "      <td>Mild</td>\n",
              "      <td>Normal</td>\n",
              "      <td>Strong</td>\n",
              "      <td>No</td>\n",
              "    </tr>\n",
              "    <tr>\n",
              "      <th>2</th>\n",
              "      <td>Sunny</td>\n",
              "      <td>Mild</td>\n",
              "      <td>High</td>\n",
              "      <td>Strong</td>\n",
              "      <td>Yes</td>\n",
              "    </tr>\n",
              "    <tr>\n",
              "      <th>3</th>\n",
              "      <td>Rain</td>\n",
              "      <td>Cool</td>\n",
              "      <td>High</td>\n",
              "      <td>Weak</td>\n",
              "      <td>Yes</td>\n",
              "    </tr>\n",
              "    <tr>\n",
              "      <th>4</th>\n",
              "      <td>Overcast</td>\n",
              "      <td>Mild</td>\n",
              "      <td>High</td>\n",
              "      <td>Weak</td>\n",
              "      <td>No</td>\n",
              "    </tr>\n",
              "  </tbody>\n",
              "</table>\n",
              "</div>\n",
              "    <div class=\"colab-df-buttons\">\n",
              "\n",
              "  <div class=\"colab-df-container\">\n",
              "    <button class=\"colab-df-convert\" onclick=\"convertToInteractive('df-5d1abc9e-05c4-4b66-8fe4-26a478c6f6a6')\"\n",
              "            title=\"Convert this dataframe to an interactive table.\"\n",
              "            style=\"display:none;\">\n",
              "\n",
              "  <svg xmlns=\"http://www.w3.org/2000/svg\" height=\"24px\" viewBox=\"0 -960 960 960\">\n",
              "    <path d=\"M120-120v-720h720v720H120Zm60-500h600v-160H180v160Zm220 220h160v-160H400v160Zm0 220h160v-160H400v160ZM180-400h160v-160H180v160Zm440 0h160v-160H620v160ZM180-180h160v-160H180v160Zm440 0h160v-160H620v160Z\"/>\n",
              "  </svg>\n",
              "    </button>\n",
              "\n",
              "  <style>\n",
              "    .colab-df-container {\n",
              "      display:flex;\n",
              "      gap: 12px;\n",
              "    }\n",
              "\n",
              "    .colab-df-convert {\n",
              "      background-color: #E8F0FE;\n",
              "      border: none;\n",
              "      border-radius: 50%;\n",
              "      cursor: pointer;\n",
              "      display: none;\n",
              "      fill: #1967D2;\n",
              "      height: 32px;\n",
              "      padding: 0 0 0 0;\n",
              "      width: 32px;\n",
              "    }\n",
              "\n",
              "    .colab-df-convert:hover {\n",
              "      background-color: #E2EBFA;\n",
              "      box-shadow: 0px 1px 2px rgba(60, 64, 67, 0.3), 0px 1px 3px 1px rgba(60, 64, 67, 0.15);\n",
              "      fill: #174EA6;\n",
              "    }\n",
              "\n",
              "    .colab-df-buttons div {\n",
              "      margin-bottom: 4px;\n",
              "    }\n",
              "\n",
              "    [theme=dark] .colab-df-convert {\n",
              "      background-color: #3B4455;\n",
              "      fill: #D2E3FC;\n",
              "    }\n",
              "\n",
              "    [theme=dark] .colab-df-convert:hover {\n",
              "      background-color: #434B5C;\n",
              "      box-shadow: 0px 1px 3px 1px rgba(0, 0, 0, 0.15);\n",
              "      filter: drop-shadow(0px 1px 2px rgba(0, 0, 0, 0.3));\n",
              "      fill: #FFFFFF;\n",
              "    }\n",
              "  </style>\n",
              "\n",
              "    <script>\n",
              "      const buttonEl =\n",
              "        document.querySelector('#df-5d1abc9e-05c4-4b66-8fe4-26a478c6f6a6 button.colab-df-convert');\n",
              "      buttonEl.style.display =\n",
              "        google.colab.kernel.accessAllowed ? 'block' : 'none';\n",
              "\n",
              "      async function convertToInteractive(key) {\n",
              "        const element = document.querySelector('#df-5d1abc9e-05c4-4b66-8fe4-26a478c6f6a6');\n",
              "        const dataTable =\n",
              "          await google.colab.kernel.invokeFunction('convertToInteractive',\n",
              "                                                    [key], {});\n",
              "        if (!dataTable) return;\n",
              "\n",
              "        const docLinkHtml = 'Like what you see? Visit the ' +\n",
              "          '<a target=\"_blank\" href=https://colab.research.google.com/notebooks/data_table.ipynb>data table notebook</a>'\n",
              "          + ' to learn more about interactive tables.';\n",
              "        element.innerHTML = '';\n",
              "        dataTable['output_type'] = 'display_data';\n",
              "        await google.colab.output.renderOutput(dataTable, element);\n",
              "        const docLink = document.createElement('div');\n",
              "        docLink.innerHTML = docLinkHtml;\n",
              "        element.appendChild(docLink);\n",
              "      }\n",
              "    </script>\n",
              "  </div>\n",
              "\n",
              "\n",
              "<div id=\"df-1fc0eb14-b807-4603-96b4-a02713599538\">\n",
              "  <button class=\"colab-df-quickchart\" onclick=\"quickchart('df-1fc0eb14-b807-4603-96b4-a02713599538')\"\n",
              "            title=\"Suggest charts\"\n",
              "            style=\"display:none;\">\n",
              "\n",
              "<svg xmlns=\"http://www.w3.org/2000/svg\" height=\"24px\"viewBox=\"0 0 24 24\"\n",
              "     width=\"24px\">\n",
              "    <g>\n",
              "        <path d=\"M19 3H5c-1.1 0-2 .9-2 2v14c0 1.1.9 2 2 2h14c1.1 0 2-.9 2-2V5c0-1.1-.9-2-2-2zM9 17H7v-7h2v7zm4 0h-2V7h2v10zm4 0h-2v-4h2v4z\"/>\n",
              "    </g>\n",
              "</svg>\n",
              "  </button>\n",
              "\n",
              "<style>\n",
              "  .colab-df-quickchart {\n",
              "      --bg-color: #E8F0FE;\n",
              "      --fill-color: #1967D2;\n",
              "      --hover-bg-color: #E2EBFA;\n",
              "      --hover-fill-color: #174EA6;\n",
              "      --disabled-fill-color: #AAA;\n",
              "      --disabled-bg-color: #DDD;\n",
              "  }\n",
              "\n",
              "  [theme=dark] .colab-df-quickchart {\n",
              "      --bg-color: #3B4455;\n",
              "      --fill-color: #D2E3FC;\n",
              "      --hover-bg-color: #434B5C;\n",
              "      --hover-fill-color: #FFFFFF;\n",
              "      --disabled-bg-color: #3B4455;\n",
              "      --disabled-fill-color: #666;\n",
              "  }\n",
              "\n",
              "  .colab-df-quickchart {\n",
              "    background-color: var(--bg-color);\n",
              "    border: none;\n",
              "    border-radius: 50%;\n",
              "    cursor: pointer;\n",
              "    display: none;\n",
              "    fill: var(--fill-color);\n",
              "    height: 32px;\n",
              "    padding: 0;\n",
              "    width: 32px;\n",
              "  }\n",
              "\n",
              "  .colab-df-quickchart:hover {\n",
              "    background-color: var(--hover-bg-color);\n",
              "    box-shadow: 0 1px 2px rgba(60, 64, 67, 0.3), 0 1px 3px 1px rgba(60, 64, 67, 0.15);\n",
              "    fill: var(--button-hover-fill-color);\n",
              "  }\n",
              "\n",
              "  .colab-df-quickchart-complete:disabled,\n",
              "  .colab-df-quickchart-complete:disabled:hover {\n",
              "    background-color: var(--disabled-bg-color);\n",
              "    fill: var(--disabled-fill-color);\n",
              "    box-shadow: none;\n",
              "  }\n",
              "\n",
              "  .colab-df-spinner {\n",
              "    border: 2px solid var(--fill-color);\n",
              "    border-color: transparent;\n",
              "    border-bottom-color: var(--fill-color);\n",
              "    animation:\n",
              "      spin 1s steps(1) infinite;\n",
              "  }\n",
              "\n",
              "  @keyframes spin {\n",
              "    0% {\n",
              "      border-color: transparent;\n",
              "      border-bottom-color: var(--fill-color);\n",
              "      border-left-color: var(--fill-color);\n",
              "    }\n",
              "    20% {\n",
              "      border-color: transparent;\n",
              "      border-left-color: var(--fill-color);\n",
              "      border-top-color: var(--fill-color);\n",
              "    }\n",
              "    30% {\n",
              "      border-color: transparent;\n",
              "      border-left-color: var(--fill-color);\n",
              "      border-top-color: var(--fill-color);\n",
              "      border-right-color: var(--fill-color);\n",
              "    }\n",
              "    40% {\n",
              "      border-color: transparent;\n",
              "      border-right-color: var(--fill-color);\n",
              "      border-top-color: var(--fill-color);\n",
              "    }\n",
              "    60% {\n",
              "      border-color: transparent;\n",
              "      border-right-color: var(--fill-color);\n",
              "    }\n",
              "    80% {\n",
              "      border-color: transparent;\n",
              "      border-right-color: var(--fill-color);\n",
              "      border-bottom-color: var(--fill-color);\n",
              "    }\n",
              "    90% {\n",
              "      border-color: transparent;\n",
              "      border-bottom-color: var(--fill-color);\n",
              "    }\n",
              "  }\n",
              "</style>\n",
              "\n",
              "  <script>\n",
              "    async function quickchart(key) {\n",
              "      const quickchartButtonEl =\n",
              "        document.querySelector('#' + key + ' button');\n",
              "      quickchartButtonEl.disabled = true;  // To prevent multiple clicks.\n",
              "      quickchartButtonEl.classList.add('colab-df-spinner');\n",
              "      try {\n",
              "        const charts = await google.colab.kernel.invokeFunction(\n",
              "            'suggestCharts', [key], {});\n",
              "      } catch (error) {\n",
              "        console.error('Error during call to suggestCharts:', error);\n",
              "      }\n",
              "      quickchartButtonEl.classList.remove('colab-df-spinner');\n",
              "      quickchartButtonEl.classList.add('colab-df-quickchart-complete');\n",
              "    }\n",
              "    (() => {\n",
              "      let quickchartButtonEl =\n",
              "        document.querySelector('#df-1fc0eb14-b807-4603-96b4-a02713599538 button');\n",
              "      quickchartButtonEl.style.display =\n",
              "        google.colab.kernel.accessAllowed ? 'block' : 'none';\n",
              "    })();\n",
              "  </script>\n",
              "</div>\n",
              "\n",
              "    </div>\n",
              "  </div>\n"
            ],
            "application/vnd.google.colaboratory.intrinsic+json": {
              "type": "dataframe",
              "variable_name": "df",
              "summary": "{\n  \"name\": \"df\",\n  \"rows\": 150,\n  \"fields\": [\n    {\n      \"column\": \"Outlook\",\n      \"properties\": {\n        \"dtype\": \"category\",\n        \"num_unique_values\": 3,\n        \"samples\": [\n          \"Rain\",\n          \"Sunny\",\n          \"Overcast\"\n        ],\n        \"semantic_type\": \"\",\n        \"description\": \"\"\n      }\n    },\n    {\n      \"column\": \"Temperature\",\n      \"properties\": {\n        \"dtype\": \"category\",\n        \"num_unique_values\": 3,\n        \"samples\": [\n          \"Hot\",\n          \"Mild\",\n          \"Cool\"\n        ],\n        \"semantic_type\": \"\",\n        \"description\": \"\"\n      }\n    },\n    {\n      \"column\": \"Humidity\",\n      \"properties\": {\n        \"dtype\": \"category\",\n        \"num_unique_values\": 2,\n        \"samples\": [\n          \"Normal\",\n          \"High\"\n        ],\n        \"semantic_type\": \"\",\n        \"description\": \"\"\n      }\n    },\n    {\n      \"column\": \"Wind\",\n      \"properties\": {\n        \"dtype\": \"category\",\n        \"num_unique_values\": 2,\n        \"samples\": [\n          \"Weak\",\n          \"Strong\"\n        ],\n        \"semantic_type\": \"\",\n        \"description\": \"\"\n      }\n    },\n    {\n      \"column\": \"PlayTennis\",\n      \"properties\": {\n        \"dtype\": \"category\",\n        \"num_unique_values\": 2,\n        \"samples\": [\n          \"No\",\n          \"Yes\"\n        ],\n        \"semantic_type\": \"\",\n        \"description\": \"\"\n      }\n    }\n  ]\n}"
            }
          },
          "metadata": {},
          "execution_count": 24
        }
      ]
    },
    {
      "cell_type": "code",
      "source": [
        "df.shape"
      ],
      "metadata": {
        "colab": {
          "base_uri": "https://localhost:8080/"
        },
        "id": "8PRqZ2MCFxuX",
        "outputId": "76bbda1a-f5f3-474c-e74a-2b18233433f5"
      },
      "execution_count": 27,
      "outputs": [
        {
          "output_type": "execute_result",
          "data": {
            "text/plain": [
              "(150, 5)"
            ]
          },
          "metadata": {},
          "execution_count": 27
        }
      ]
    },
    {
      "cell_type": "code",
      "source": [
        "df.isnull().sum()"
      ],
      "metadata": {
        "colab": {
          "base_uri": "https://localhost:8080/",
          "height": 241
        },
        "id": "E5MSXa-CF9nf",
        "outputId": "19172741-2c64-4c88-dd1c-34c03cc94313"
      },
      "execution_count": 28,
      "outputs": [
        {
          "output_type": "execute_result",
          "data": {
            "text/plain": [
              "Outlook        0\n",
              "Temperature    0\n",
              "Humidity       0\n",
              "Wind           0\n",
              "PlayTennis     0\n",
              "dtype: int64"
            ],
            "text/html": [
              "<div>\n",
              "<style scoped>\n",
              "    .dataframe tbody tr th:only-of-type {\n",
              "        vertical-align: middle;\n",
              "    }\n",
              "\n",
              "    .dataframe tbody tr th {\n",
              "        vertical-align: top;\n",
              "    }\n",
              "\n",
              "    .dataframe thead th {\n",
              "        text-align: right;\n",
              "    }\n",
              "</style>\n",
              "<table border=\"1\" class=\"dataframe\">\n",
              "  <thead>\n",
              "    <tr style=\"text-align: right;\">\n",
              "      <th></th>\n",
              "      <th>0</th>\n",
              "    </tr>\n",
              "  </thead>\n",
              "  <tbody>\n",
              "    <tr>\n",
              "      <th>Outlook</th>\n",
              "      <td>0</td>\n",
              "    </tr>\n",
              "    <tr>\n",
              "      <th>Temperature</th>\n",
              "      <td>0</td>\n",
              "    </tr>\n",
              "    <tr>\n",
              "      <th>Humidity</th>\n",
              "      <td>0</td>\n",
              "    </tr>\n",
              "    <tr>\n",
              "      <th>Wind</th>\n",
              "      <td>0</td>\n",
              "    </tr>\n",
              "    <tr>\n",
              "      <th>PlayTennis</th>\n",
              "      <td>0</td>\n",
              "    </tr>\n",
              "  </tbody>\n",
              "</table>\n",
              "</div><br><label><b>dtype:</b> int64</label>"
            ]
          },
          "metadata": {},
          "execution_count": 28
        }
      ]
    },
    {
      "cell_type": "code",
      "source": [
        "print(\"\\n3. Summary of Categorical Variables:\")\n",
        "for feature in features:\n",
        "    print(df[feature].value_counts())\n",
        "\n",
        "print(f\"\\nClass Distribution:\")\n",
        "print(df[target_column].value_counts())"
      ],
      "metadata": {
        "colab": {
          "base_uri": "https://localhost:8080/"
        },
        "id": "K8mXSX4yGDS0",
        "outputId": "6b56917d-1238-4da5-f361-2f0a19f05456"
      },
      "execution_count": 70,
      "outputs": [
        {
          "output_type": "stream",
          "name": "stdout",
          "text": [
            "\n",
            "3. Summary of Categorical Variables:\n",
            "Outlook\n",
            "Sunny       55\n",
            "Rain        52\n",
            "Overcast    43\n",
            "Name: count, dtype: int64\n",
            "Temperature\n",
            "Hot     56\n",
            "Cool    51\n",
            "Mild    43\n",
            "Name: count, dtype: int64\n",
            "Humidity\n",
            "High      84\n",
            "Normal    66\n",
            "Name: count, dtype: int64\n",
            "Wind\n",
            "Strong    86\n",
            "Weak      64\n",
            "Name: count, dtype: int64\n",
            "\n",
            "Class Distribution:\n",
            "PlayTennis\n",
            "No     82\n",
            "Yes    68\n",
            "Name: count, dtype: int64\n"
          ]
        }
      ]
    },
    {
      "cell_type": "code",
      "source": [
        "# Visualizations\n",
        "plt.figure(figsize=(15, 10))\n",
        "\n",
        "# Class distribution\n",
        "plt.subplot(2, 2, 1)\n",
        "sns.countplot(x=target_column, data=df)\n",
        "plt.title(f'Distribution of {target_column}')\n",
        "plt.xlabel(target_column)\n",
        "plt.ylabel('Count')\n",
        "\n",
        "# Feature distributions\n",
        "for i, feature in enumerate(features, 2):\n",
        "    plt.subplot(2, 2, i)\n",
        "    sns.countplot(x=feature, data=df, hue=target_column)\n",
        "    plt.title(f'Distribution of {feature} by {target_column}')\n",
        "    plt.xlabel(feature)\n",
        "    plt.ylabel('Count')\n",
        "    plt.xticks(rotation=45)\n",
        "\n",
        "plt.tight_layout()\n",
        "plt.show()"
      ],
      "metadata": {
        "colab": {
          "base_uri": "https://localhost:8080/",
          "height": 1000
        },
        "id": "oi1I74gBGobQ",
        "outputId": "869c176f-dea4-4e08-fe2f-8ef823cace0f"
      },
      "execution_count": 71,
      "outputs": [
        {
          "output_type": "error",
          "ename": "ValueError",
          "evalue": "num must be an integer with 1 <= num <= 4, not 5",
          "traceback": [
            "\u001b[0;31m---------------------------------------------------------------------------\u001b[0m",
            "\u001b[0;31mValueError\u001b[0m                                Traceback (most recent call last)",
            "\u001b[0;32m<ipython-input-71-fadfe39d0fbb>\u001b[0m in \u001b[0;36m<cell line: 0>\u001b[0;34m()\u001b[0m\n\u001b[1;32m     11\u001b[0m \u001b[0;31m# Feature distributions\u001b[0m\u001b[0;34m\u001b[0m\u001b[0;34m\u001b[0m\u001b[0m\n\u001b[1;32m     12\u001b[0m \u001b[0;32mfor\u001b[0m \u001b[0mi\u001b[0m\u001b[0;34m,\u001b[0m \u001b[0mfeature\u001b[0m \u001b[0;32min\u001b[0m \u001b[0menumerate\u001b[0m\u001b[0;34m(\u001b[0m\u001b[0mfeatures\u001b[0m\u001b[0;34m,\u001b[0m \u001b[0;36m2\u001b[0m\u001b[0;34m)\u001b[0m\u001b[0;34m:\u001b[0m\u001b[0;34m\u001b[0m\u001b[0;34m\u001b[0m\u001b[0m\n\u001b[0;32m---> 13\u001b[0;31m     \u001b[0mplt\u001b[0m\u001b[0;34m.\u001b[0m\u001b[0msubplot\u001b[0m\u001b[0;34m(\u001b[0m\u001b[0;36m2\u001b[0m\u001b[0;34m,\u001b[0m \u001b[0;36m2\u001b[0m\u001b[0;34m,\u001b[0m \u001b[0mi\u001b[0m\u001b[0;34m)\u001b[0m\u001b[0;34m\u001b[0m\u001b[0;34m\u001b[0m\u001b[0m\n\u001b[0m\u001b[1;32m     14\u001b[0m     \u001b[0msns\u001b[0m\u001b[0;34m.\u001b[0m\u001b[0mcountplot\u001b[0m\u001b[0;34m(\u001b[0m\u001b[0mx\u001b[0m\u001b[0;34m=\u001b[0m\u001b[0mfeature\u001b[0m\u001b[0;34m,\u001b[0m \u001b[0mdata\u001b[0m\u001b[0;34m=\u001b[0m\u001b[0mdf\u001b[0m\u001b[0;34m,\u001b[0m \u001b[0mhue\u001b[0m\u001b[0;34m=\u001b[0m\u001b[0mtarget_column\u001b[0m\u001b[0;34m)\u001b[0m\u001b[0;34m\u001b[0m\u001b[0;34m\u001b[0m\u001b[0m\n\u001b[1;32m     15\u001b[0m     \u001b[0mplt\u001b[0m\u001b[0;34m.\u001b[0m\u001b[0mtitle\u001b[0m\u001b[0;34m(\u001b[0m\u001b[0;34mf'Distribution of {feature} by {target_column}'\u001b[0m\u001b[0;34m)\u001b[0m\u001b[0;34m\u001b[0m\u001b[0;34m\u001b[0m\u001b[0m\n",
            "\u001b[0;32m/usr/local/lib/python3.11/dist-packages/matplotlib/pyplot.py\u001b[0m in \u001b[0;36msubplot\u001b[0;34m(*args, **kwargs)\u001b[0m\n\u001b[1;32m   1548\u001b[0m \u001b[0;34m\u001b[0m\u001b[0m\n\u001b[1;32m   1549\u001b[0m     \u001b[0;31m# First, search for an existing subplot with a matching spec.\u001b[0m\u001b[0;34m\u001b[0m\u001b[0;34m\u001b[0m\u001b[0m\n\u001b[0;32m-> 1550\u001b[0;31m     \u001b[0mkey\u001b[0m \u001b[0;34m=\u001b[0m \u001b[0mSubplotSpec\u001b[0m\u001b[0;34m.\u001b[0m\u001b[0m_from_subplot_args\u001b[0m\u001b[0;34m(\u001b[0m\u001b[0mfig\u001b[0m\u001b[0;34m,\u001b[0m \u001b[0margs\u001b[0m\u001b[0;34m)\u001b[0m\u001b[0;34m\u001b[0m\u001b[0;34m\u001b[0m\u001b[0m\n\u001b[0m\u001b[1;32m   1551\u001b[0m \u001b[0;34m\u001b[0m\u001b[0m\n\u001b[1;32m   1552\u001b[0m     \u001b[0;32mfor\u001b[0m \u001b[0max\u001b[0m \u001b[0;32min\u001b[0m \u001b[0mfig\u001b[0m\u001b[0;34m.\u001b[0m\u001b[0maxes\u001b[0m\u001b[0;34m:\u001b[0m\u001b[0;34m\u001b[0m\u001b[0;34m\u001b[0m\u001b[0m\n",
            "\u001b[0;32m/usr/local/lib/python3.11/dist-packages/matplotlib/gridspec.py\u001b[0m in \u001b[0;36m_from_subplot_args\u001b[0;34m(figure, args)\u001b[0m\n\u001b[1;32m    587\u001b[0m         \u001b[0;32melse\u001b[0m\u001b[0;34m:\u001b[0m\u001b[0;34m\u001b[0m\u001b[0;34m\u001b[0m\u001b[0m\n\u001b[1;32m    588\u001b[0m             \u001b[0;32mif\u001b[0m \u001b[0;32mnot\u001b[0m \u001b[0misinstance\u001b[0m\u001b[0;34m(\u001b[0m\u001b[0mnum\u001b[0m\u001b[0;34m,\u001b[0m \u001b[0mIntegral\u001b[0m\u001b[0;34m)\u001b[0m \u001b[0;32mor\u001b[0m \u001b[0mnum\u001b[0m \u001b[0;34m<\u001b[0m \u001b[0;36m1\u001b[0m \u001b[0;32mor\u001b[0m \u001b[0mnum\u001b[0m \u001b[0;34m>\u001b[0m \u001b[0mrows\u001b[0m\u001b[0;34m*\u001b[0m\u001b[0mcols\u001b[0m\u001b[0;34m:\u001b[0m\u001b[0;34m\u001b[0m\u001b[0;34m\u001b[0m\u001b[0m\n\u001b[0;32m--> 589\u001b[0;31m                 raise ValueError(\n\u001b[0m\u001b[1;32m    590\u001b[0m                     \u001b[0;34mf\"num must be an integer with 1 <= num <= {rows*cols}, \"\u001b[0m\u001b[0;34m\u001b[0m\u001b[0;34m\u001b[0m\u001b[0m\n\u001b[1;32m    591\u001b[0m                     \u001b[0;34mf\"not {num!r}\"\u001b[0m\u001b[0;34m\u001b[0m\u001b[0;34m\u001b[0m\u001b[0m\n",
            "\u001b[0;31mValueError\u001b[0m: num must be an integer with 1 <= num <= 4, not 5"
          ]
        },
        {
          "output_type": "display_data",
          "data": {
            "text/plain": [
              "<Figure size 1500x1000 with 4 Axes>"
            ],
            "image/png": "[encoded data removed]"
          },
          "metadata": {}
        }
      ]
    },
    {
      "cell_type": "code",
      "source": [
        "print(\"\\n4. Contingency Tables:\")\n",
        "for feature in features:\n",
        "    contingency_table = pd.crosstab(df[feature], df[target_column], margins=True, margins_name=\"Total\")\n",
        "    print(f\"\\nContingency Table: {feature} vs {target_column}\")\n",
        "    print(contingency_table.to_string())"
      ],
      "metadata": {
        "colab": {
          "base_uri": "https://localhost:8080/"
        },
        "id": "4igFRnrvG0VD",
        "outputId": "9afa76fa-bf2e-47fd-c93c-5c171813cdf7"
      },
      "execution_count": 43,
      "outputs": [
        {
          "output_type": "stream",
          "name": "stdout",
          "text": [
            "\n",
            "4. Contingency Tables:\n",
            "\n",
            "Contingency Table: Outlook vs PlayTennis\n",
            "PlayTennis  No  Yes  Total\n",
            "Outlook                   \n",
            "Overcast    23   20     43\n",
            "Rain        30   22     52\n",
            "Sunny       29   26     55\n",
            "Total       82   68    150\n",
            "\n",
            "Contingency Table: Temperature vs PlayTennis\n",
            "PlayTennis   No  Yes  Total\n",
            "Temperature                \n",
            "Cool         33   18     51\n",
            "Hot          23   33     56\n",
            "Mild         26   17     43\n",
            "Total        82   68    150\n",
            "\n",
            "Contingency Table: Humidity vs PlayTennis\n",
            "PlayTennis  No  Yes  Total\n",
            "Humidity                  \n",
            "High        47   37     84\n",
            "Normal      35   31     66\n",
            "Total       82   68    150\n",
            "\n",
            "Contingency Table: Wind vs PlayTennis\n",
            "PlayTennis  No  Yes  Total\n",
            "Wind                      \n",
            "Strong      43   43     86\n",
            "Weak        39   25     64\n",
            "Total       82   68    150\n"
          ]
        }
      ]
    },
    {
      "cell_type": "markdown",
      "source": [
        "# Navies Bayes classifier without library"
      ],
      "metadata": {
        "id": "gVuKOXz5AGm-"
      }
    },
    {
      "cell_type": "code",
      "source": [
        "def compute_frequency_tables(df, feature_cols, target_col):\n",
        "    freq_tables = {}\n",
        "    class_labels = sorted(df[target_col].unique())\n",
        "\n",
        "    for feature in feature_cols:\n",
        "        table = defaultdict(lambda: defaultdict(int))\n",
        "        for _, row in df.iterrows():\n",
        "            val = row[feature]\n",
        "            label = row[target_col]\n",
        "            table[label][val] += 1\n",
        "\n",
        "        unique_vals = sorted(df[feature].unique())\n",
        "        freq_df = pd.DataFrame({val: [table[label][val] for label in class_labels]\n",
        "                                for val in unique_vals}, index=class_labels)\n",
        "        freq_tables[feature] = freq_df\n",
        "\n",
        "    return freq_tables, class_labels"
      ],
      "metadata": {
        "id": "uDGzeluXAUTY"
      },
      "execution_count": 78,
      "outputs": []
    },
    {
      "cell_type": "code",
      "source": [
        "def compute_likelihood_tables(freq_tables, df, feature_cols, target_col, class_labels):\n",
        "    class_counts = df[target_col].value_counts().to_dict()\n",
        "    total_samples = len(df)\n",
        "\n",
        "    priors = {label: class_counts[label] / total_samples for label in class_labels}\n",
        "    likelihood_tables = {}\n",
        "\n",
        "    for feature in feature_cols:\n",
        "        unique_vals = sorted(df[feature].unique())\n",
        "        table = defaultdict(lambda: defaultdict(float))\n",
        "\n",
        "        for label in class_labels:\n",
        "            total_class_count = class_counts[label]\n",
        "            for val in unique_vals:\n",
        "                count = freq_tables[feature].loc[label, val]\n",
        "                table[label][val] = (count + 1) / (total_class_count + len(unique_vals))  # Laplace smoothing\n",
        "\n",
        "        likelihood_df = pd.DataFrame({val: [table[label][val] for label in class_labels]\n",
        "                                      for val in unique_vals}, index=class_labels)\n",
        "        likelihood_tables[feature] = likelihood_df\n",
        "\n",
        "    return priors, likelihood_tables, class_counts"
      ],
      "metadata": {
        "id": "9eBUm2vVAtGc"
      },
      "execution_count": 79,
      "outputs": []
    },
    {
      "cell_type": "code",
      "source": [
        "def compute_priors(df, target_col):\n",
        "    class_counts = df[target_col].value_counts().to_dict()\n",
        "    total_samples = len(df)\n",
        "    priors = {label: class_counts[label] / total_samples for label in class_counts}\n",
        "    return priors, class_counts\n",
        "\n",
        "def display_priors(priors):\n",
        "    print(\"\\n=== Prior Probabilities ===\")\n",
        "    for label, prob in priors.items():\n",
        "        print(f\"P({label}) = {prob:.4f}\")"
      ],
      "metadata": {
        "id": "vIF0kxiLPuZ6"
      },
      "execution_count": 86,
      "outputs": []
    },
    {
      "cell_type": "code",
      "source": [
        "def predict_single_instance(test_instance, priors, likelihood_tables, feature_cols, class_labels, class_counts):\n",
        "    test_likelihoods = defaultdict(lambda: defaultdict(float))\n",
        "    scores = {}\n",
        "\n",
        "    for label in class_labels:\n",
        "        for feature in feature_cols:\n",
        "            value = test_instance[feature]\n",
        "            if value in likelihood_tables[feature].columns:\n",
        "                test_likelihoods[label][feature] = likelihood_tables[feature].loc[label, value]\n",
        "            else:\n",
        "                # Handle unseen values using Laplace smoothing\n",
        "                total_class_count = class_counts[label]\n",
        "                unique_vals_count = len(likelihood_tables[feature].columns)\n",
        "                test_likelihoods[label][feature] = 1 / (total_class_count + unique_vals_count)\n",
        "\n",
        "    print(f\"\\n--- Likelihoods for Test Sample: {test_instance.to_dict()} ---\")\n",
        "    for label in class_labels:\n",
        "        print(f\"\\nClass: {label}\")\n",
        "        for feature in feature_cols:\n",
        "            print(f\"P({feature}={test_instance[feature]} | {label}) = {test_likelihoods[label][feature]:.4f}\")\n",
        "\n",
        "    for label in class_labels:\n",
        "        likelihood_product = np.prod(list(test_likelihoods[label].values()))\n",
        "        scores[label] = priors[label] * likelihood_product\n",
        "\n",
        "    print(\"\\nPosterior Probabilities:\")\n",
        "    for label in class_labels:\n",
        "        print(f\"P({label} | features) ∝ {scores[label]:.8f}\")\n",
        "\n",
        "    prediction = max(scores, key=scores.get)\n",
        "    print(f\"\\n🎯 Final Prediction: {prediction}\")\n",
        "    return prediction"
      ],
      "metadata": {
        "id": "lhUrhJthMJZ-"
      },
      "execution_count": 81,
      "outputs": []
    },
    {
      "cell_type": "code",
      "source": [
        "def predict(test_df, priors, likelihood_tables, feature_cols, class_labels, class_counts):\n",
        "    predictions = []\n",
        "    for idx, row in test_df.iterrows():\n",
        "        print(f\"\\n========= Test Sample {idx + 1} =========\")\n",
        "        prediction = predict_single_instance(row, priors, likelihood_tables, feature_cols, class_labels, class_counts)\n",
        "        predictions.append(prediction)\n",
        "    return predictions"
      ],
      "metadata": {
        "id": "626sblCUJnRB"
      },
      "execution_count": 82,
      "outputs": []
    },
    {
      "cell_type": "code",
      "source": [
        "# Now compute everything and predict\n",
        "freq_tables, class_labels = compute_frequency_tables(df, features, target_column)\n",
        "priors, likelihood_tables, class_counts = compute_likelihood_tables(freq_tables, df, features, target_column, class_labels)\n",
        "\n",
        "# Show Training Outputs\n",
        "priors, class_counts = compute_priors(df, target_column)\n",
        "# Show Training Outputs\n",
        "display_priors(priors)"
      ],
      "metadata": {
        "colab": {
          "base_uri": "https://localhost:8080/"
        },
        "id": "cZNNo7SRMVUU",
        "outputId": "4d27a092-0fbe-4730-dcc7-9016cd0d43cd"
      },
      "execution_count": 88,
      "outputs": [
        {
          "output_type": "stream",
          "name": "stdout",
          "text": [
            "\n",
            "=== Prior Probabilities ===\n",
            "P(No) = 0.5467\n",
            "P(Yes) = 0.4533\n"
          ]
        }
      ]
    },
    {
      "cell_type": "code",
      "source": [
        "test_data = [\n",
        "    {'Outlook': 'Sunny', 'Temperature': 'Cool', 'Humidity': 'High', 'Wind': 'Strong'},\n",
        "    {'Outlook': 'Overcast', 'Temperature': 'Mild', 'Humidity': 'High', 'Wind': 'Weak'}\n",
        "]\n",
        "df_test = pd.DataFrame(test_data)\n",
        "\n",
        "# Run predictions\n",
        "predictions = predict(df_test, priors, likelihood_tables, features, class_labels, class_counts)"
      ],
      "metadata": {
        "colab": {
          "base_uri": "https://localhost:8080/"
        },
        "id": "G6C9zH3dMobn",
        "outputId": "e0722320-536e-4d9a-f3c0-1713f865e25e"
      },
      "execution_count": 89,
      "outputs": [
        {
          "output_type": "stream",
          "name": "stdout",
          "text": [
            "\n",
            "========= Test Sample 1 =========\n",
            "\n",
            "--- Likelihoods for Test Sample: {'Outlook': 'Sunny', 'Temperature': 'Cool', 'Humidity': 'High', 'Wind': 'Strong'} ---\n",
            "\n",
            "Class: No\n",
            "P(Outlook=Sunny | No) = 0.3529\n",
            "P(Temperature=Cool | No) = 0.4000\n",
            "P(Humidity=High | No) = 0.5714\n",
            "P(Wind=Strong | No) = 0.5238\n",
            "\n",
            "Class: Yes\n",
            "P(Outlook=Sunny | Yes) = 0.3803\n",
            "P(Temperature=Cool | Yes) = 0.2676\n",
            "P(Humidity=High | Yes) = 0.5429\n",
            "P(Wind=Strong | Yes) = 0.6286\n",
            "\n",
            "Posterior Probabilities:\n",
            "P(No | features) ∝ 0.02310044\n",
            "P(Yes | features) ∝ 0.01574195\n",
            "\n",
            "🎯 Final Prediction: No\n",
            "\n",
            "========= Test Sample 2 =========\n",
            "\n",
            "--- Likelihoods for Test Sample: {'Outlook': 'Overcast', 'Temperature': 'Mild', 'Humidity': 'High', 'Wind': 'Weak'} ---\n",
            "\n",
            "Class: No\n",
            "P(Outlook=Overcast | No) = 0.2824\n",
            "P(Temperature=Mild | No) = 0.3176\n",
            "P(Humidity=High | No) = 0.5714\n",
            "P(Wind=Weak | No) = 0.4762\n",
            "\n",
            "Class: Yes\n",
            "P(Outlook=Overcast | Yes) = 0.2958\n",
            "P(Temperature=Mild | Yes) = 0.2535\n",
            "P(Humidity=High | Yes) = 0.5429\n",
            "P(Wind=Weak | Yes) = 0.3714\n",
            "\n",
            "Posterior Probabilities:\n",
            "P(No | features) ∝ 0.01334143\n",
            "P(Yes | features) ∝ 0.00685415\n",
            "\n",
            "🎯 Final Prediction: No\n"
          ]
        }
      ]
    },
    {
      "cell_type": "markdown",
      "source": [
        "# Using libraries"
      ],
      "metadata": {
        "id": "hPBxL0cURFTR"
      }
    },
    {
      "cell_type": "code",
      "source": [
        "import pandas as pd\n",
        "from sklearn.model_selection import train_test_split\n",
        "from sklearn.naive_bayes import CategoricalNB\n",
        "from sklearn.metrics import accuracy_score, f1_score, classification_report\n",
        "from sklearn.preprocessing import OrdinalEncoder, LabelEncoder\n",
        "\n",
        "data = pd.read_csv('/content/sample_data/playing_tennis_dataset.csv')\n",
        "\n",
        "X = data.iloc[:, :-1]\n",
        "y = data.iloc[:, -1]\n",
        "\n",
        "feature_encoder = OrdinalEncoder()\n",
        "X_encoded = feature_encoder.fit_transform(X)\n",
        "\n",
        "target_encoder = LabelEncoder()\n",
        "y_encoded = target_encoder.fit_transform(y)\n",
        "\n",
        "X_train, X_test, y_train, y_test = train_test_split(X_encoded, y_encoded, test_size=0.2, random_state=42)\n",
        "\n",
        "# Train Naive Bayes model\n",
        "model = CategoricalNB()\n",
        "model.fit(X_train, y_train)\n",
        "\n",
        "# Evaluate\n",
        "y_pred = model.predict(X_test)\n",
        "print(\"Accuracy:\", accuracy_score(y_test, y_pred))\n",
        "print(\"F1 Score:\", f1_score(y_test, y_pred, average='weighted'))\n",
        "print(\"\\nClassification Report:\\n\", classification_report(y_test, y_pred))\n",
        "\n",
        "sample_input = pd.DataFrame([['Sunny', 'Mild', 'High', 'Weak']], columns=X.columns)\n",
        "\n",
        "sample_input_encoded = feature_encoder.transform(sample_input)\n",
        "\n",
        "# Predict class\n",
        "prediction = model.predict(sample_input_encoded)\n",
        "predicted_class = target_encoder.inverse_transform(prediction)\n",
        "print(\"\\nPredicted class for new input:\", predicted_class[0])\n"
      ],
      "metadata": {
        "colab": {
          "base_uri": "https://localhost:8080/"
        },
        "id": "LUGib5x8WeG3",
        "outputId": "5cdea0fc-cd8d-42d3-e985-8748ff6a24ea"
      },
      "execution_count": 111,
      "outputs": [
        {
          "output_type": "stream",
          "name": "stdout",
          "text": [
            "Accuracy: 0.6666666666666666\n",
            "F1 Score: 0.6243386243386244\n",
            "\n",
            "Classification Report:\n",
            "               precision    recall  f1-score   support\n",
            "\n",
            "           0       0.64      0.94      0.76        17\n",
            "           1       0.80      0.31      0.44        13\n",
            "\n",
            "    accuracy                           0.67        30\n",
            "   macro avg       0.72      0.62      0.60        30\n",
            "weighted avg       0.71      0.67      0.62        30\n",
            "\n",
            "\n",
            "Predicted class for new input: No\n"
          ]
        }
      ]
    }
  ]
}