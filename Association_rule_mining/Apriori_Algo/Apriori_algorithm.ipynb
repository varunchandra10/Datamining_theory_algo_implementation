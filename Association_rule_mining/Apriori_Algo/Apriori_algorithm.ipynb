{
  "nbformat": 4,
  "nbformat_minor": 0,
  "metadata": {
    "colab": {
      "provenance": [],
      "authorship_tag": "ABX9TyNlTPvM8EMOiUCzellJVJOa",
      "include_colab_link": true
    },
    "kernelspec": {
      "name": "python3",
      "display_name": "Python 3"
    },
    "language_info": {
      "name": "python"
    }
  },
  "cells": [
    {
      "cell_type": "markdown",
      "metadata": {
        "id": "view-in-github",
        "colab_type": "text"
      },
      "source": [
        "<a href=\"https://colab.research.google.com/github/varunchandra10/datamining_algorithms/blob/main/Association_rule_mining/Apriori_Algo/Apriori_algorithm.ipynb\" target=\"_parent\"><img src=\"https://colab.research.google.com/assets/colab-badge.svg\" alt=\"Open In Colab\"/></a>"
      ]
    },
    {
      "cell_type": "markdown",
      "source": [
        "Install the below packages\n",
        "\n",
        "- Pandas\n",
        "- mlxtend\n",
        "\n",
        "`    pip install pandas mlxtend    `\n",
        "\n",
        "Download the dataset: **grocery_dataset.csv** from github and place it in the **Files(which will be in sidebar of Colab)** in files\n",
        "- navigate to sample_data\n",
        "- right click on it and\n",
        "- click on upload\n",
        "- After uploading, right click on csv file and copy path and paste wherever it is required.\n"
      ],
      "metadata": {
        "id": "_UikXyKuk8gj"
      }
    },
    {
      "cell_type": "markdown",
      "source": [
        "# Implementation of Apriori Algorithm without Libraries"
      ],
      "metadata": {
        "id": "JSGhftmVTI8K"
      }
    },
    {
      "cell_type": "code",
      "source": [
        "import pandas as pd\n",
        "from itertools import combinations, chain\n",
        "from collections import defaultdict"
      ],
      "metadata": {
        "id": "ojh3ei4QtrzT"
      },
      "execution_count": 117,
      "outputs": []
    },
    {
      "cell_type": "code",
      "execution_count": 118,
      "metadata": {
        "id": "iDH5Ameeq-3_"
      },
      "outputs": [],
      "source": [
        "def load_transactions(df):\n",
        "    transactions = []\n",
        "    if df.shape[1] == 1:\n",
        "        for i in range(len(df)):\n",
        "            row = str(df.iloc[i, 0])\n",
        "            if \"[\" in row:\n",
        "                row = row.strip(\"[]\").replace(\"'\", \"\")\n",
        "                items = row.split(\",\")\n",
        "            else:\n",
        "                items = row.split(\",\")\n",
        "            cleaned = []\n",
        "            for item in items:\n",
        "                if item.strip():\n",
        "                    cleaned.append(item.strip())\n",
        "            transactions.append(cleaned)\n",
        "    else:\n",
        "        for i in range(len(df)):\n",
        "            row = df.iloc[i].dropna().tolist()\n",
        "            cleaned = []\n",
        "            for item in row:\n",
        "                if str(item).strip():\n",
        "                    cleaned.append(str(item).strip())\n",
        "            transactions.append(cleaned)\n",
        "    return transactions"
      ]
    },
    {
      "cell_type": "code",
      "source": [
        "# Generate C1 - Initial candidate itemsets\n",
        "def create_C1(transactions):\n",
        "    item_count = defaultdict(int)\n",
        "    for transaction in transactions:\n",
        "        for item in transaction:\n",
        "            item_count[frozenset([item])] += 1\n",
        "    return dict(item_count)"
      ],
      "metadata": {
        "id": "T8Px_dz5KFsy"
      },
      "execution_count": 119,
      "outputs": []
    },
    {
      "cell_type": "code",
      "source": [
        "# Filter based on support threshold\n",
        "def filter_candidates(candidates, min_support_count):\n",
        "    return {itemset: count for itemset, count in candidates.items() if count >= min_support_count}"
      ],
      "metadata": {
        "id": "olvku2YsKLhs"
      },
      "execution_count": 120,
      "outputs": []
    },
    {
      "cell_type": "code",
      "source": [
        "# Generate Ck from Lk-1\n",
        "def generate_candidates(prev_Lk, k):\n",
        "    prev_Lk_list = list(prev_Lk)\n",
        "    candidates = set()\n",
        "    for i in range(len(prev_Lk_list)):\n",
        "        for j in range(i + 1, len(prev_Lk_list)):\n",
        "            union = prev_Lk_list[i].union(prev_Lk_list[j])\n",
        "            if len(union) == k:\n",
        "                subsets = list(combinations(union, k - 1))\n",
        "                if all(frozenset(sub) in prev_Lk for sub in subsets):\n",
        "                    candidates.add(frozenset(union))\n",
        "    return candidates"
      ],
      "metadata": {
        "id": "_S0YCv6_KNlV"
      },
      "execution_count": 121,
      "outputs": []
    },
    {
      "cell_type": "code",
      "source": [
        "# Count support for candidates\n",
        "def count_candidates(transactions, candidates):\n",
        "    item_count = defaultdict(int)\n",
        "    for transaction in transactions:\n",
        "        t_set = set(transaction)\n",
        "        for candidate in candidates:\n",
        "            if candidate.issubset(t_set):\n",
        "                item_count[candidate] += 1\n",
        "    return dict(item_count)"
      ],
      "metadata": {
        "id": "lWu80h8rQ5Ay"
      },
      "execution_count": 122,
      "outputs": []
    },
    {
      "cell_type": "code",
      "source": [
        "# Generate association rules with support counted manually if missing\n",
        "def generate_rules(frequent_itemsets, transactions, min_confidence_percent):\n",
        "    rules = []\n",
        "    for itemset, itemset_count in frequent_itemsets.items():\n",
        "        if len(itemset) < 2:\n",
        "            continue\n",
        "        items = list(itemset)\n",
        "        for i in range(1, len(items)):\n",
        "            for antecedent in combinations(items, i):\n",
        "                antecedent = frozenset(antecedent)\n",
        "                consequent = itemset - antecedent\n",
        "\n",
        "                if not consequent:\n",
        "                    continue\n",
        "\n",
        "                # Manually count support of antecedent if not found\n",
        "                antecedent_count = frequent_itemsets.get(antecedent)\n",
        "                if antecedent_count is None:\n",
        "                    antecedent_count = sum(1 for t in transactions if antecedent.issubset(set(t)))\n",
        "\n",
        "                confidence = (itemset_count / antecedent_count) * 100\n",
        "                rule = (set(antecedent), set(consequent), round(confidence, 2))\n",
        "                rules.append(rule)\n",
        "\n",
        "    strong_rules = [r for r in rules if r[2] >= min_confidence_percent]\n",
        "    return rules, strong_rules"
      ],
      "metadata": {
        "id": "D1RBbggcKVbH"
      },
      "execution_count": 123,
      "outputs": []
    },
    {
      "cell_type": "code",
      "source": [
        "# Main Apriori function\n",
        "def apriori(transactions, min_support_count, min_confidence_percent):\n",
        "    print(f\"✅ Minimum Support Count: {min_support_count}\\n\")\n",
        "\n",
        "    C1 = create_C1(transactions)\n",
        "    print(\"🔹 C1 - Candidate 1-itemsets:\")\n",
        "    print(pd.DataFrame(C1.items(), columns=[\"Itemset\", \"Support Count\"]), \"\\n\")\n",
        "\n",
        "    L1 = filter_candidates(C1, min_support_count)\n",
        "    print(\"✅ L1 - Frequent 1-itemsets:\")\n",
        "    print(pd.DataFrame(L1.items(), columns=[\"Itemset\", \"Support Count\"]), \"\\n\")\n",
        "\n",
        "    L = L1\n",
        "    k = 2\n",
        "    all_frequent_itemsets = dict(L1)\n",
        "\n",
        "    while L:\n",
        "        Ck = generate_candidates(set(L.keys()), k)\n",
        "        Ck_counts = count_candidates(transactions, Ck)\n",
        "        print(f\"🔹 C{k} - Candidate {k}-itemsets:\")\n",
        "        print(pd.DataFrame(Ck_counts.items(), columns=[\"Itemset\", \"Support Count\"]), \"\\n\")\n",
        "\n",
        "        Lk = filter_candidates(Ck_counts, min_support_count)\n",
        "        if not Lk:\n",
        "            break\n",
        "        print(f\"✅ L{k} - Frequent {k}-itemsets:\")\n",
        "        print(pd.DataFrame(Lk.items(), columns=[\"Itemset\", \"Support Count\"]), \"\\n\")\n",
        "\n",
        "        all_frequent_itemsets.update(Lk)\n",
        "        L = Lk\n",
        "        k += 1\n",
        "\n",
        "    all_rules, strong_rules = generate_rules(all_frequent_itemsets, transactions, min_confidence_percent)\n",
        "    all_rules.sort(key=lambda x: (x[2], len(x[0])), reverse=True)\n",
        "\n",
        "    print(\"📋 All Association Rules:\")\n",
        "    print(pd.DataFrame(all_rules, columns=[\"Antecedent\", \"Consequent\", \"Confidence (%)\"]))\n",
        "\n",
        "    print(f\"\\n🔥 Strong Association Rules (Confidence ≥ {min_confidence_percent}%):\")\n",
        "    print(pd.DataFrame(strong_rules, columns=[\"Antecedent\", \"Consequent\", \"Confidence (%)\"]))\n",
        "\n",
        "    return all_frequent_itemsets, all_rules, strong_rules"
      ],
      "metadata": {
        "id": "axCE1aP1KP7p"
      },
      "execution_count": 124,
      "outputs": []
    },
    {
      "cell_type": "code",
      "source": [
        "file_path = \"/content/sample_data/grocery_dataset.csv\" #file path is required\n",
        "df = pd.read_csv(file_path)\n",
        "transactions = load_transactions(df)\n",
        "print(f\"\\n📦 Total Transactions: {len(transactions)}\")\n",
        "print(\"🛒 Sample Transactions:\")\n",
        "for t in transactions[:3]:\n",
        "    print(\"  \", t)"
      ],
      "metadata": {
        "colab": {
          "base_uri": "https://localhost:8080/"
        },
        "id": "SamtXLGXDYTb",
        "outputId": "9ca795ba-35df-4149-e07b-4edae76cac91"
      },
      "execution_count": 125,
      "outputs": [
        {
          "output_type": "stream",
          "name": "stdout",
          "text": [
            "\n",
            "📦 Total Transactions: 60\n",
            "🛒 Sample Transactions:\n",
            "   ['Milk', 'Cheese']\n",
            "   ['Eggs', 'Butter', 'Bread']\n",
            "   ['Cereal', 'Apples']\n"
          ]
        }
      ]
    },
    {
      "cell_type": "code",
      "source": [
        "# Parameters\n",
        "min_support_count = 3\n",
        "min_confidence = 70\n",
        "\n",
        "# Run Apriori\n",
        "frequent_itemsets, all_rules, strong_rules = apriori(transactions, min_support_count, min_confidence)"
      ],
      "metadata": {
        "colab": {
          "base_uri": "https://localhost:8080/"
        },
        "id": "s9NcQmsyD0pY",
        "outputId": "c31d5e38-2221-460c-ee1a-12f00ce9c3dc"
      },
      "execution_count": 126,
      "outputs": [
        {
          "output_type": "stream",
          "name": "stdout",
          "text": [
            "✅ Minimum Support Count: 3\n",
            "\n",
            "🔹 C1 - Candidate 1-itemsets:\n",
            "     Itemset  Support Count\n",
            "0     (Milk)             22\n",
            "1   (Cheese)             18\n",
            "2     (Eggs)             23\n",
            "3   (Butter)             18\n",
            "4    (Bread)             22\n",
            "5   (Cereal)             19\n",
            "6   (Apples)             24\n",
            "7   (Yogurt)             21\n",
            "8    (Juice)             13\n",
            "9  (Bananas)             18 \n",
            "\n",
            "✅ L1 - Frequent 1-itemsets:\n",
            "     Itemset  Support Count\n",
            "0     (Milk)             22\n",
            "1   (Cheese)             18\n",
            "2     (Eggs)             23\n",
            "3   (Butter)             18\n",
            "4    (Bread)             22\n",
            "5   (Cereal)             19\n",
            "6   (Apples)             24\n",
            "7   (Yogurt)             21\n",
            "8    (Juice)             13\n",
            "9  (Bananas)             18 \n",
            "\n",
            "🔹 C2 - Candidate 2-itemsets:\n",
            "              Itemset  Support Count\n",
            "0      (Milk, Cheese)              5\n",
            "1       (Eggs, Bread)              7\n",
            "2     (Butter, Bread)              7\n",
            "3      (Butter, Eggs)              7\n",
            "4    (Cereal, Apples)              8\n",
            "5       (Milk, Bread)              7\n",
            "6      (Milk, Yogurt)              6\n",
            "7      (Eggs, Yogurt)              8\n",
            "8        (Milk, Eggs)              9\n",
            "9      (Eggs, Apples)              7\n",
            "10   (Yogurt, Apples)              7\n",
            "11   (Cheese, Cereal)              5\n",
            "12    (Cheese, Bread)              7\n",
            "13    (Cereal, Bread)              9\n",
            "14     (Milk, Apples)              5\n",
            "15    (Apples, Bread)              8\n",
            "16     (Milk, Cereal)              7\n",
            "17   (Cheese, Apples)             10\n",
            "18   (Bananas, Bread)              9\n",
            "19  (Bananas, Cheese)              4\n",
            "20  (Butter, Bananas)              7\n",
            "21    (Juice, Cheese)              4\n",
            "22     (Juice, Bread)              3\n",
            "23   (Butter, Cheese)              4\n",
            "24    (Butter, Juice)              5\n",
            "25   (Juice, Bananas)              4\n",
            "26    (Juice, Cereal)              4\n",
            "27    (Bananas, Eggs)              7\n",
            "28    (Bananas, Milk)              5\n",
            "29   (Cheese, Yogurt)              6\n",
            "30     (Cereal, Eggs)              7\n",
            "31     (Cheese, Eggs)              4\n",
            "32   (Cereal, Yogurt)              7\n",
            "33    (Yogurt, Bread)              4\n",
            "34   (Butter, Cereal)              6\n",
            "35   (Butter, Yogurt)              7\n",
            "36    (Juice, Yogurt)              2\n",
            "37    (Juice, Apples)              5\n",
            "38      (Juice, Eggs)              4\n",
            "39   (Butter, Apples)              5\n",
            "40  (Bananas, Apples)              9\n",
            "41  (Bananas, Yogurt)              7\n",
            "42     (Butter, Milk)              2\n",
            "43  (Bananas, Cereal)              5\n",
            "44      (Juice, Milk)              4 \n",
            "\n",
            "✅ L2 - Frequent 2-itemsets:\n",
            "              Itemset  Support Count\n",
            "0      (Milk, Cheese)              5\n",
            "1       (Eggs, Bread)              7\n",
            "2     (Butter, Bread)              7\n",
            "3      (Butter, Eggs)              7\n",
            "4    (Cereal, Apples)              8\n",
            "5       (Milk, Bread)              7\n",
            "6      (Milk, Yogurt)              6\n",
            "7      (Eggs, Yogurt)              8\n",
            "8        (Milk, Eggs)              9\n",
            "9      (Eggs, Apples)              7\n",
            "10   (Yogurt, Apples)              7\n",
            "11   (Cheese, Cereal)              5\n",
            "12    (Cheese, Bread)              7\n",
            "13    (Cereal, Bread)              9\n",
            "14     (Milk, Apples)              5\n",
            "15    (Apples, Bread)              8\n",
            "16     (Milk, Cereal)              7\n",
            "17   (Cheese, Apples)             10\n",
            "18   (Bananas, Bread)              9\n",
            "19  (Bananas, Cheese)              4\n",
            "20  (Butter, Bananas)              7\n",
            "21    (Juice, Cheese)              4\n",
            "22     (Juice, Bread)              3\n",
            "23   (Butter, Cheese)              4\n",
            "24    (Butter, Juice)              5\n",
            "25   (Juice, Bananas)              4\n",
            "26    (Juice, Cereal)              4\n",
            "27    (Bananas, Eggs)              7\n",
            "28    (Bananas, Milk)              5\n",
            "29   (Cheese, Yogurt)              6\n",
            "30     (Cereal, Eggs)              7\n",
            "31     (Cheese, Eggs)              4\n",
            "32   (Cereal, Yogurt)              7\n",
            "33    (Yogurt, Bread)              4\n",
            "34   (Butter, Cereal)              6\n",
            "35   (Butter, Yogurt)              7\n",
            "36    (Juice, Apples)              5\n",
            "37      (Juice, Eggs)              4\n",
            "38   (Butter, Apples)              5\n",
            "39  (Bananas, Apples)              9\n",
            "40  (Bananas, Yogurt)              7\n",
            "41  (Bananas, Cereal)              5\n",
            "42      (Juice, Milk)              4 \n",
            "\n",
            "🔹 C3 - Candidate 3-itemsets:\n",
            "                      Itemset  Support Count\n",
            "0       (Butter, Eggs, Bread)              2\n",
            "1        (Milk, Eggs, Yogurt)              2\n",
            "2      (Eggs, Yogurt, Apples)              3\n",
            "3      (Milk, Cereal, Apples)              2\n",
            "4       (Cheese, Bread, Milk)              1\n",
            "..                        ...            ...\n",
            "91  (Butter, Bananas, Apples)              1\n",
            "92     (Cereal, Eggs, Apples)              2\n",
            "93  (Butter, Bananas, Cereal)              1\n",
            "94    (Cheese, Yogurt, Bread)              1\n",
            "95        (Juice, Milk, Eggs)              1\n",
            "\n",
            "[96 rows x 2 columns] \n",
            "\n",
            "✅ L3 - Frequent 3-itemsets:\n",
            "                      Itemset  Support Count\n",
            "0      (Eggs, Yogurt, Apples)              3\n",
            "1     (Cheese, Cereal, Bread)              3\n",
            "2     (Cereal, Apples, Bread)              3\n",
            "3     (Cheese, Apples, Bread)              4\n",
            "4      (Cheese, Cereal, Milk)              3\n",
            "5    (Bananas, Cheese, Bread)              3\n",
            "6      (Butter, Juice, Bread)              3\n",
            "7     (Juice, Cheese, Butter)              3\n",
            "8         (Milk, Eggs, Bread)              3\n",
            "9      (Bananas, Milk, Bread)              3\n",
            "10      (Cereal, Eggs, Bread)              3\n",
            "11       (Milk, Cereal, Eggs)              3\n",
            "12    (Cereal, Yogurt, Bread)              3\n",
            "13    (Butter, Cereal, Bread)              3\n",
            "14   (Butter, Cereal, Yogurt)              3\n",
            "15   (Bananas, Apples, Bread)              4\n",
            "16  (Bananas, Cheese, Apples)              3\n",
            "17    (Bananas, Eggs, Apples)              4\n",
            "18   (Cereal, Yogurt, Apples)              3\n",
            "19  (Butter, Bananas, Yogurt)              3\n",
            "20    (Bananas, Milk, Apples)              3\n",
            "21   (Cheese, Yogurt, Apples)              3\n",
            "22  (Bananas, Yogurt, Apples)              4\n",
            "23    (Butter, Bananas, Eggs)              3\n",
            "24  (Bananas, Cereal, Apples)              4 \n",
            "\n",
            "🔹 C4 - Candidate 4-itemsets:\n",
            "                            Itemset  Support Count\n",
            "0  (Bread, Bananas, Cheese, Apples)              2 \n",
            "\n",
            "📋 All Association Rules:\n",
            "            Antecedent         Consequent  Confidence (%)\n",
            "0       {Juice, Bread}           {Butter}           100.0\n",
            "1    {Bananas, Cereal}           {Apples}            80.0\n",
            "2    {Bananas, Cheese}            {Bread}            75.0\n",
            "3      {Juice, Cheese}           {Butter}            75.0\n",
            "4     {Butter, Cheese}            {Juice}            75.0\n",
            "..                 ...                ...             ...\n",
            "231           {Apples}    {Cereal, Bread}            12.5\n",
            "232           {Apples}  {Bananas, Cheese}            12.5\n",
            "233           {Apples}   {Cereal, Yogurt}            12.5\n",
            "234           {Apples}    {Bananas, Milk}            12.5\n",
            "235           {Apples}   {Cheese, Yogurt}            12.5\n",
            "\n",
            "[236 rows x 3 columns]\n",
            "\n",
            "🔥 Strong Association Rules (Confidence ≥ 70%):\n",
            "          Antecedent Consequent  Confidence (%)\n",
            "0  {Bananas, Cheese}    {Bread}            75.0\n",
            "1     {Juice, Bread}   {Butter}           100.0\n",
            "2    {Juice, Cheese}   {Butter}            75.0\n",
            "3   {Butter, Cheese}    {Juice}            75.0\n",
            "4    {Yogurt, Bread}   {Cereal}            75.0\n",
            "5  {Bananas, Cheese}   {Apples}            75.0\n",
            "6  {Bananas, Cereal}   {Apples}            80.0\n"
          ]
        }
      ]
    },
    {
      "cell_type": "markdown",
      "source": [
        "# Implementation of Apriori algorithm with Libraries"
      ],
      "metadata": {
        "id": "mho3FgMeTQ1y"
      }
    },
    {
      "cell_type": "code",
      "source": [
        "file_path_lib = \"/content/sample_data/grocery_dataset.csv\" #file path is required\n",
        "df_lib = pd.read_csv(file_path_lib)\n",
        "print(f\"\\n📦 Total Transactions: {len(df_lib)}\")\n",
        "for t in transactions[:]:\n",
        "    print(\"  \", t)"
      ],
      "metadata": {
        "colab": {
          "base_uri": "https://localhost:8080/"
        },
        "id": "v0KhqfE0cNoj",
        "outputId": "484f1b70-29ad-4bfd-dd27-84e2d93a135d"
      },
      "execution_count": 127,
      "outputs": [
        {
          "output_type": "stream",
          "name": "stdout",
          "text": [
            "\n",
            "📦 Total Transactions: 60\n",
            "   ['Milk', 'Cheese']\n",
            "   ['Eggs', 'Butter', 'Bread']\n",
            "   ['Cereal', 'Apples']\n",
            "   ['Milk', 'Bread']\n",
            "   ['Eggs', 'Yogurt', 'Milk']\n",
            "   ['Yogurt', 'Apples', 'Eggs']\n",
            "   ['Cereal', 'Cheese', 'Milk', 'Apples', 'Bread']\n",
            "   ['Juice', 'Cheese', 'Butter', 'Bread', 'Bananas']\n",
            "   ['Bread', 'Apples']\n",
            "   ['Juice', 'Cereal']\n",
            "   ['Milk', 'Bananas', 'Bread', 'Eggs']\n",
            "   ['Yogurt', 'Cheese']\n",
            "   ['Cereal', 'Eggs', 'Bread', 'Milk']\n",
            "   ['Cheese', 'Bread', 'Eggs']\n",
            "   ['Apples', 'Cheese']\n",
            "   ['Juice', 'Butter', 'Cereal', 'Yogurt', 'Bread']\n",
            "   ['Bread', 'Butter', 'Eggs', 'Cereal']\n",
            "   ['Apples', 'Cheese', 'Eggs', 'Juice', 'Butter']\n",
            "   ['Eggs', 'Milk']\n",
            "   ['Apples', 'Cheese', 'Bread', 'Bananas']\n",
            "   ['Eggs', 'Bananas', 'Apples', 'Juice']\n",
            "   ['Butter', 'Cheese', 'Cereal', 'Bread', 'Juice']\n",
            "   ['Cereal', 'Apples', 'Yogurt', 'Butter']\n",
            "   ['Butter', 'Yogurt', 'Bananas']\n",
            "   ['Milk', 'Bread']\n",
            "   ['Butter', 'Apples', 'Bread']\n",
            "   ['Apples', 'Bananas', 'Cheese', 'Yogurt', 'Milk']\n",
            "   ['Yogurt', 'Cheese']\n",
            "   ['Bread', 'Cheese', 'Apples', 'Cereal']\n",
            "   ['Milk', 'Cheese', 'Butter', 'Yogurt', 'Cereal']\n",
            "   ['Yogurt', 'Eggs', 'Butter', 'Bananas']\n",
            "   ['Yogurt', 'Cereal', 'Milk']\n",
            "   ['Bananas', 'Milk', 'Bread', 'Butter']\n",
            "   ['Eggs', 'Milk', 'Cereal', 'Cheese']\n",
            "   ['Bread', 'Bananas']\n",
            "   ['Yogurt', 'Butter']\n",
            "   ['Bananas', 'Yogurt', 'Butter']\n",
            "   ['Yogurt', 'Apples', 'Eggs', 'Cheese']\n",
            "   ['Cheese', 'Apples', 'Juice']\n",
            "   ['Yogurt', 'Bananas', 'Bread', 'Cereal', 'Apples']\n",
            "   ['Juice', 'Milk']\n",
            "   ['Cereal', 'Eggs', 'Milk']\n",
            "   ['Milk', 'Eggs']\n",
            "   ['Milk', 'Juice']\n",
            "   ['Yogurt', 'Eggs']\n",
            "   ['Bananas', 'Eggs', 'Butter', 'Juice']\n",
            "   ['Eggs', 'Bananas', 'Apples', 'Bread', 'Milk']\n",
            "   ['Apples', 'Juice']\n",
            "   ['Apples', 'Bananas', 'Milk', 'Juice', 'Cereal']\n",
            "   ['Milk', 'Apples']\n",
            "   ['Bread', 'Eggs', 'Yogurt', 'Cereal']\n",
            "   ['Butter', 'Apples', 'Cereal', 'Bananas', 'Eggs']\n",
            "   ['Bread', 'Bananas', 'Cereal']\n",
            "   ['Yogurt', 'Milk']\n",
            "   ['Eggs', 'Butter']\n",
            "   ['Bananas', 'Cereal', 'Eggs', 'Apples', 'Yogurt']\n",
            "   ['Butter', 'Apples']\n",
            "   ['Apples', 'Cheese']\n",
            "   ['Cheese', 'Apples', 'Bananas', 'Bread', 'Yogurt']\n",
            "   ['Eggs', 'Milk', 'Yogurt', 'Juice']\n"
          ]
        }
      ]
    },
    {
      "cell_type": "code",
      "source": [
        "from mlxtend.preprocessing import TransactionEncoder\n",
        "from mlxtend.frequent_patterns import apriori, association_rules\n",
        "import pandas as pd\n",
        "\n",
        "# STEP 3: One-hot encoding\n",
        "te = TransactionEncoder()\n",
        "te_array = te.fit(transactions).transform(transactions)\n",
        "df_lib = pd.DataFrame(te_array, columns=te.columns_)\n",
        "\n",
        "# STEP 4: Run Apriori Algorithm\n",
        "min_support = 0.04     # e.g. 4% of total transactions\n",
        "min_confidence = 0.7   # 70%\n",
        "\n",
        "frequent_itemsets = apriori(df_lib, min_support=min_support, use_colnames=True)\n",
        "frequent_itemsets['support_count'] = (frequent_itemsets['support'] * len(transactions)).astype(int)\n",
        "\n",
        "rules = association_rules(frequent_itemsets, metric=\"confidence\", min_threshold=min_confidence)\n",
        "\n",
        "# STEP 5: Optional rule filtering\n",
        "# Example: Only show rules with 2+ items in antecedents\n",
        "filtered_rules = rules[\n",
        "    (rules['antecedents'].apply(lambda x: len(x) >= 1)) &\n",
        "    (rules['confidence'] >= min_confidence)\n",
        "]\n",
        "\n",
        "# STEP 6: Show Results\n",
        "print(\"\\n✅ Frequent Itemsets:\")\n",
        "print(frequent_itemsets.sort_values(by='support', ascending=False).reset_index(drop=True))\n",
        "\n",
        "print(\"\\n🔗 Association Rules (Support & Confidence Only):\")\n",
        "print(filtered_rules[['antecedents', 'consequents', 'support', 'confidence']]\n",
        "      .sort_values(by='confidence', ascending=False)\n",
        "      .reset_index(drop=True))"
      ],
      "metadata": {
        "colab": {
          "base_uri": "https://localhost:8080/"
        },
        "id": "14BMgy71c2zo",
        "outputId": "561fb7b7-8104-49ba-cd98-cf6c31af761f"
      },
      "execution_count": 129,
      "outputs": [
        {
          "output_type": "stream",
          "name": "stdout",
          "text": [
            "\n",
            "✅ Frequent Itemsets:\n",
            "     support                  itemsets  support_count\n",
            "0   0.400000                  (Apples)             24\n",
            "1   0.383333                    (Eggs)             23\n",
            "2   0.366667                    (Milk)             22\n",
            "3   0.366667                   (Bread)             22\n",
            "4   0.350000                  (Yogurt)             21\n",
            "..       ...                       ...            ...\n",
            "73  0.050000       (Milk, Eggs, Bread)              3\n",
            "74  0.050000  (Butter, Cereal, Yogurt)              3\n",
            "75  0.050000   (Butter, Juice, Cheese)              3\n",
            "76  0.050000    (Milk, Cereal, Cheese)              3\n",
            "77  0.050000      (Milk, Cereal, Eggs)              3\n",
            "\n",
            "[78 rows x 3 columns]\n",
            "\n",
            "🔗 Association Rules (Support & Confidence Only):\n",
            "         antecedents consequents   support  confidence\n",
            "0     (Juice, Bread)    (Butter)  0.050000        1.00\n",
            "1  (Bananas, Cereal)    (Apples)  0.066667        0.80\n",
            "2  (Bananas, Cheese)    (Apples)  0.050000        0.75\n",
            "3  (Bananas, Cheese)     (Bread)  0.050000        0.75\n",
            "4    (Yogurt, Bread)    (Cereal)  0.050000        0.75\n",
            "5   (Butter, Cheese)     (Juice)  0.050000        0.75\n",
            "6    (Juice, Cheese)    (Butter)  0.050000        0.75\n"
          ]
        }
      ]
    }
  ]
}